{
 "cells": [
  {
   "cell_type": "code",
   "execution_count": 84,
   "metadata": {},
   "outputs": [
    {
     "name": "stdout",
     "output_type": "stream",
     "text": [
      "File ~ usa_Jan-18-2022.csv ~ Already Exists\n",
      "<class 'pandas.core.frame.DataFrame'>\n",
      "RangeIndex: 3342 entries, 0 to 3341\n",
      "Columns: 740 entries, Unnamed: 0 to 1/17/22\n",
      "dtypes: float64(3), int64(731), object(6)\n",
      "memory usage: 18.9+ MB\n"
     ]
    },
    {
     "data": {
      "text/plain": [
       "None"
      ]
     },
     "metadata": {},
     "output_type": "display_data"
    },
    {
     "name": "stdout",
     "output_type": "stream",
     "text": [
      "Wall time: 344 ms\n"
     ]
    }
   ],
   "source": [
    "%%time\n",
    "import pandas as pd\n",
    "import seaborn as sns\n",
    "import matplotlib.pyplot as plt\n",
    "sns.set_style(\"darkgrid\",{\"axes.facebolor\":\"0.90\"})\n",
    "sns.set_context(\"notebook\", font_scale=1.5, rc={\"lines.linewidth\":2.5})\n",
    "import datetime as dt\n",
    "from datetime import datetime\n",
    "today=datetime.today()\n",
    "#usa_fetcher \n",
    "import usa_fetcher\n",
    "usa_fetcher.usa_fetch()\n",
    "\n",
    "df=pd.read_csv(f\"usa_{today.strftime('%b-%d-%Y')}.csv\")\n",
    "display(df.info())"
   ]
  },
  {
   "cell_type": "code",
   "execution_count": 85,
   "metadata": {},
   "outputs": [],
   "source": [
    "# df=df.rename(columns={\"Admin2\":\"County\"})"
   ]
  },
  {
   "cell_type": "code",
   "execution_count": 87,
   "metadata": {},
   "outputs": [
    {
     "data": {
      "text/plain": [
       "1980"
      ]
     },
     "execution_count": 87,
     "metadata": {},
     "output_type": "execute_result"
    }
   ],
   "source": [
    "df.Admin2.nunique()"
   ]
  },
  {
   "cell_type": "code",
   "execution_count": 88,
   "metadata": {},
   "outputs": [],
   "source": [
    "non_death_col=['Unnamed: 0','UID','iso2','iso3','code3','FIPS','Admin2','Province_State','Country_Region','Lat','Long_','Combined_Key','Population']"
   ]
  },
  {
   "cell_type": "code",
   "execution_count": 90,
   "metadata": {},
   "outputs": [
    {
     "data": {
      "text/html": [
       "<div>\n",
       "<style scoped>\n",
       "    .dataframe tbody tr th:only-of-type {\n",
       "        vertical-align: middle;\n",
       "    }\n",
       "\n",
       "    .dataframe tbody tr th {\n",
       "        vertical-align: top;\n",
       "    }\n",
       "\n",
       "    .dataframe thead th {\n",
       "        text-align: right;\n",
       "    }\n",
       "</style>\n",
       "<table border=\"1\" class=\"dataframe\">\n",
       "  <thead>\n",
       "    <tr style=\"text-align: right;\">\n",
       "      <th></th>\n",
       "      <th>Unnamed: 0</th>\n",
       "      <th>UID</th>\n",
       "      <th>iso2</th>\n",
       "      <th>iso3</th>\n",
       "      <th>code3</th>\n",
       "      <th>FIPS</th>\n",
       "      <th>Admin2</th>\n",
       "      <th>Province_State</th>\n",
       "      <th>Country_Region</th>\n",
       "      <th>Lat</th>\n",
       "      <th>...</th>\n",
       "      <th>1/8/22</th>\n",
       "      <th>1/9/22</th>\n",
       "      <th>1/10/22</th>\n",
       "      <th>1/11/22</th>\n",
       "      <th>1/12/22</th>\n",
       "      <th>1/13/22</th>\n",
       "      <th>1/14/22</th>\n",
       "      <th>1/15/22</th>\n",
       "      <th>1/16/22</th>\n",
       "      <th>1/17/22</th>\n",
       "    </tr>\n",
       "  </thead>\n",
       "  <tbody>\n",
       "    <tr>\n",
       "      <th>235</th>\n",
       "      <td>235</td>\n",
       "      <td>84006075</td>\n",
       "      <td>US</td>\n",
       "      <td>USA</td>\n",
       "      <td>840</td>\n",
       "      <td>6075.0</td>\n",
       "      <td>San Francisco</td>\n",
       "      <td>California</td>\n",
       "      <td>US</td>\n",
       "      <td>37.752151</td>\n",
       "      <td>...</td>\n",
       "      <td>690</td>\n",
       "      <td>690</td>\n",
       "      <td>690</td>\n",
       "      <td>690</td>\n",
       "      <td>691</td>\n",
       "      <td>691</td>\n",
       "      <td>692</td>\n",
       "      <td>692</td>\n",
       "      <td>692</td>\n",
       "      <td>694</td>\n",
       "    </tr>\n",
       "  </tbody>\n",
       "</table>\n",
       "<p>1 rows × 740 columns</p>\n",
       "</div>"
      ],
      "text/plain": [
       "     Unnamed: 0       UID iso2 iso3  code3    FIPS         Admin2  \\\n",
       "235         235  84006075   US  USA    840  6075.0  San Francisco   \n",
       "\n",
       "    Province_State Country_Region        Lat  ...  1/8/22 1/9/22  1/10/22  \\\n",
       "235     California             US  37.752151  ...     690    690      690   \n",
       "\n",
       "     1/11/22  1/12/22  1/13/22  1/14/22  1/15/22  1/16/22  1/17/22  \n",
       "235      690      691      691      692      692      692      694  \n",
       "\n",
       "[1 rows x 740 columns]"
      ]
     },
     "execution_count": 90,
     "metadata": {},
     "output_type": "execute_result"
    }
   ],
   "source": [
    "sf=df[df.Admin2 == 'San Francisco']\n",
    "sf"
   ]
  },
  {
   "cell_type": "code",
   "execution_count": 101,
   "metadata": {},
   "outputs": [],
   "source": [
    "sf_deaths=sf.drop(non_death_col,axis=1)\n",
    "sf_deaths.T.columns = [\"deaths\"]"
   ]
  },
  {
   "cell_type": "code",
   "execution_count": 114,
   "metadata": {},
   "outputs": [
    {
     "data": {
      "text/plain": [
       "235    694\n",
       "Name: 1/17/22, dtype: int64"
      ]
     },
     "execution_count": 114,
     "metadata": {},
     "output_type": "execute_result"
    }
   ],
   "source": [
    "sf_deaths.iloc[:,-1]"
   ]
  },
  {
   "cell_type": "code",
   "execution_count": null,
   "metadata": {},
   "outputs": [],
   "source": []
  },
  {
   "cell_type": "code",
   "execution_count": null,
   "metadata": {},
   "outputs": [],
   "source": []
  },
  {
   "cell_type": "code",
   "execution_count": 22,
   "metadata": {},
   "outputs": [
    {
     "data": {
      "text/html": [
       "<div>\n",
       "<style scoped>\n",
       "    .dataframe tbody tr th:only-of-type {\n",
       "        vertical-align: middle;\n",
       "    }\n",
       "\n",
       "    .dataframe tbody tr th {\n",
       "        vertical-align: top;\n",
       "    }\n",
       "\n",
       "    .dataframe thead th {\n",
       "        text-align: right;\n",
       "    }\n",
       "</style>\n",
       "<table border=\"1\" class=\"dataframe\">\n",
       "  <thead>\n",
       "    <tr style=\"text-align: right;\">\n",
       "      <th></th>\n",
       "      <th>Unnamed: 0</th>\n",
       "      <th>UID</th>\n",
       "      <th>iso2</th>\n",
       "      <th>iso3</th>\n",
       "      <th>code3</th>\n",
       "      <th>FIPS</th>\n",
       "      <th>Admin2</th>\n",
       "      <th>Province_State</th>\n",
       "      <th>Country_Region</th>\n",
       "      <th>Lat</th>\n",
       "      <th>...</th>\n",
       "      <th>1/8/22</th>\n",
       "      <th>1/9/22</th>\n",
       "      <th>1/10/22</th>\n",
       "      <th>1/11/22</th>\n",
       "      <th>1/12/22</th>\n",
       "      <th>1/13/22</th>\n",
       "      <th>1/14/22</th>\n",
       "      <th>1/15/22</th>\n",
       "      <th>1/16/22</th>\n",
       "      <th>1/17/22</th>\n",
       "    </tr>\n",
       "  </thead>\n",
       "  <tbody>\n",
       "    <tr>\n",
       "      <th>0</th>\n",
       "      <td>0</td>\n",
       "      <td>84001001</td>\n",
       "      <td>US</td>\n",
       "      <td>USA</td>\n",
       "      <td>840</td>\n",
       "      <td>1001.0</td>\n",
       "      <td>Autauga</td>\n",
       "      <td>Alabama</td>\n",
       "      <td>US</td>\n",
       "      <td>32.539527</td>\n",
       "      <td>...</td>\n",
       "      <td>162</td>\n",
       "      <td>162</td>\n",
       "      <td>162</td>\n",
       "      <td>162</td>\n",
       "      <td>162</td>\n",
       "      <td>162</td>\n",
       "      <td>162</td>\n",
       "      <td>162</td>\n",
       "      <td>163</td>\n",
       "      <td>163</td>\n",
       "    </tr>\n",
       "    <tr>\n",
       "      <th>1</th>\n",
       "      <td>1</td>\n",
       "      <td>84001003</td>\n",
       "      <td>US</td>\n",
       "      <td>USA</td>\n",
       "      <td>840</td>\n",
       "      <td>1003.0</td>\n",
       "      <td>Baldwin</td>\n",
       "      <td>Alabama</td>\n",
       "      <td>US</td>\n",
       "      <td>30.727750</td>\n",
       "      <td>...</td>\n",
       "      <td>603</td>\n",
       "      <td>603</td>\n",
       "      <td>603</td>\n",
       "      <td>603</td>\n",
       "      <td>603</td>\n",
       "      <td>603</td>\n",
       "      <td>603</td>\n",
       "      <td>603</td>\n",
       "      <td>605</td>\n",
       "      <td>605</td>\n",
       "    </tr>\n",
       "    <tr>\n",
       "      <th>2</th>\n",
       "      <td>2</td>\n",
       "      <td>84001005</td>\n",
       "      <td>US</td>\n",
       "      <td>USA</td>\n",
       "      <td>840</td>\n",
       "      <td>1005.0</td>\n",
       "      <td>Barbour</td>\n",
       "      <td>Alabama</td>\n",
       "      <td>US</td>\n",
       "      <td>31.868263</td>\n",
       "      <td>...</td>\n",
       "      <td>83</td>\n",
       "      <td>83</td>\n",
       "      <td>83</td>\n",
       "      <td>83</td>\n",
       "      <td>83</td>\n",
       "      <td>83</td>\n",
       "      <td>83</td>\n",
       "      <td>83</td>\n",
       "      <td>83</td>\n",
       "      <td>83</td>\n",
       "    </tr>\n",
       "    <tr>\n",
       "      <th>3</th>\n",
       "      <td>3</td>\n",
       "      <td>84001007</td>\n",
       "      <td>US</td>\n",
       "      <td>USA</td>\n",
       "      <td>840</td>\n",
       "      <td>1007.0</td>\n",
       "      <td>Bibb</td>\n",
       "      <td>Alabama</td>\n",
       "      <td>US</td>\n",
       "      <td>32.996421</td>\n",
       "      <td>...</td>\n",
       "      <td>95</td>\n",
       "      <td>95</td>\n",
       "      <td>95</td>\n",
       "      <td>95</td>\n",
       "      <td>95</td>\n",
       "      <td>95</td>\n",
       "      <td>95</td>\n",
       "      <td>95</td>\n",
       "      <td>95</td>\n",
       "      <td>95</td>\n",
       "    </tr>\n",
       "    <tr>\n",
       "      <th>4</th>\n",
       "      <td>4</td>\n",
       "      <td>84001009</td>\n",
       "      <td>US</td>\n",
       "      <td>USA</td>\n",
       "      <td>840</td>\n",
       "      <td>1009.0</td>\n",
       "      <td>Blount</td>\n",
       "      <td>Alabama</td>\n",
       "      <td>US</td>\n",
       "      <td>33.982109</td>\n",
       "      <td>...</td>\n",
       "      <td>202</td>\n",
       "      <td>202</td>\n",
       "      <td>202</td>\n",
       "      <td>202</td>\n",
       "      <td>202</td>\n",
       "      <td>202</td>\n",
       "      <td>202</td>\n",
       "      <td>202</td>\n",
       "      <td>203</td>\n",
       "      <td>203</td>\n",
       "    </tr>\n",
       "  </tbody>\n",
       "</table>\n",
       "<p>5 rows × 740 columns</p>\n",
       "</div>"
      ],
      "text/plain": [
       "   Unnamed: 0       UID iso2 iso3  code3    FIPS   Admin2 Province_State  \\\n",
       "0           0  84001001   US  USA    840  1001.0  Autauga        Alabama   \n",
       "1           1  84001003   US  USA    840  1003.0  Baldwin        Alabama   \n",
       "2           2  84001005   US  USA    840  1005.0  Barbour        Alabama   \n",
       "3           3  84001007   US  USA    840  1007.0     Bibb        Alabama   \n",
       "4           4  84001009   US  USA    840  1009.0   Blount        Alabama   \n",
       "\n",
       "  Country_Region        Lat  ...  1/8/22 1/9/22  1/10/22  1/11/22  1/12/22  \\\n",
       "0             US  32.539527  ...     162    162      162      162      162   \n",
       "1             US  30.727750  ...     603    603      603      603      603   \n",
       "2             US  31.868263  ...      83     83       83       83       83   \n",
       "3             US  32.996421  ...      95     95       95       95       95   \n",
       "4             US  33.982109  ...     202    202      202      202      202   \n",
       "\n",
       "   1/13/22  1/14/22  1/15/22  1/16/22  1/17/22  \n",
       "0      162      162      162      163      163  \n",
       "1      603      603      603      605      605  \n",
       "2       83       83       83       83       83  \n",
       "3       95       95       95       95       95  \n",
       "4      202      202      202      203      203  \n",
       "\n",
       "[5 rows x 740 columns]"
      ]
     },
     "execution_count": 22,
     "metadata": {},
     "output_type": "execute_result"
    }
   ],
   "source": [
    "df.head()"
   ]
  },
  {
   "cell_type": "code",
   "execution_count": null,
   "metadata": {},
   "outputs": [],
   "source": []
  },
  {
   "cell_type": "code",
   "execution_count": 34,
   "metadata": {},
   "outputs": [
    {
     "data": {
      "text/plain": [
       "False"
      ]
     },
     "execution_count": 34,
     "metadata": {},
     "output_type": "execute_result"
    }
   ],
   "source": [
    "'San Francisco' in df.Admin2"
   ]
  },
  {
   "cell_type": "code",
   "execution_count": 38,
   "metadata": {},
   "outputs": [
    {
     "name": "stdout",
     "output_type": "stream",
     "text": [
      "'Unnamed: 0','UID','iso2','iso3','code3','FIPS','Admin2','Province_State','Country_Region','Lat','Long_','Combined_Key','Population',"
     ]
    }
   ],
   "source": [
    "# RELEVANT COLUMNS for examination\n",
    "for i,x in enumerate(df.columns):\n",
    "    print(f\"'{x}'\",end=',')\n",
    "    if i == 12:\n",
    "        break"
   ]
  },
  {
   "cell_type": "code",
   "execution_count": 40,
   "metadata": {},
   "outputs": [],
   "source": [
    "rel_cols=['iso2','iso3','code3','FIPS','Admin2','Province_State','Country_Region','Lat','Long_','Combined_Key','Population']"
   ]
  },
  {
   "cell_type": "code",
   "execution_count": 49,
   "metadata": {},
   "outputs": [
    {
     "data": {
      "text/plain": [
       "Alameda            1\n",
       "Alpine             1\n",
       "Plumas             1\n",
       "Riverside          1\n",
       "Sacramento         1\n",
       "San Benito         1\n",
       "San Bernardino     1\n",
       "San Diego          1\n",
       "San Francisco      1\n",
       "San Joaquin        1\n",
       "San Luis Obispo    1\n",
       "San Mateo          1\n",
       "Santa Barbara      1\n",
       "Santa Clara        1\n",
       "Santa Cruz         1\n",
       "Shasta             1\n",
       "Sierra             1\n",
       "Siskiyou           1\n",
       "Solano             1\n",
       "Sonoma             1\n",
       "Stanislaus         1\n",
       "Sutter             1\n",
       "Tehama             1\n",
       "Trinity            1\n",
       "Tulare             1\n",
       "Tuolumne           1\n",
       "Unassigned         1\n",
       "Ventura            1\n",
       "Yolo               1\n",
       "Placer             1\n",
       "Out of CA          1\n",
       "Orange             1\n",
       "Kern               1\n",
       "Amador             1\n",
       "Butte              1\n",
       "Calaveras          1\n",
       "Colusa             1\n",
       "Contra Costa       1\n",
       "Del Norte          1\n",
       "El Dorado          1\n",
       "Fresno             1\n",
       "Glenn              1\n",
       "Humboldt           1\n",
       "Imperial           1\n",
       "Inyo               1\n",
       "Kings              1\n",
       "Nevada             1\n",
       "Lake               1\n",
       "Lassen             1\n",
       "Los Angeles        1\n",
       "Madera             1\n",
       "Marin              1\n",
       "Mariposa           1\n",
       "Mendocino          1\n",
       "Merced             1\n",
       "Modoc              1\n",
       "Mono               1\n",
       "Monterey           1\n",
       "Napa               1\n",
       "Yuba               1\n",
       "Name: Admin2, dtype: int64"
      ]
     },
     "execution_count": 49,
     "metadata": {},
     "output_type": "execute_result"
    }
   ],
   "source": [
    "df[df[rel_cols]['Province_State'] == 'California']['Admin2'].value_counts()"
   ]
  },
  {
   "cell_type": "code",
   "execution_count": null,
   "metadata": {},
   "outputs": [],
   "source": []
  },
  {
   "cell_type": "code",
   "execution_count": 30,
   "metadata": {},
   "outputs": [
    {
     "data": {
      "text/plain": [
       "'1/17/22'"
      ]
     },
     "execution_count": 30,
     "metadata": {},
     "output_type": "execute_result"
    }
   ],
   "source": [
    "# df.columns[-1]"
   ]
  },
  {
   "cell_type": "code",
   "execution_count": null,
   "metadata": {},
   "outputs": [],
   "source": []
  },
  {
   "cell_type": "code",
   "execution_count": null,
   "metadata": {},
   "outputs": [],
   "source": []
  },
  {
   "cell_type": "code",
   "execution_count": null,
   "metadata": {},
   "outputs": [],
   "source": []
  },
  {
   "cell_type": "code",
   "execution_count": null,
   "metadata": {},
   "outputs": [],
   "source": []
  },
  {
   "cell_type": "code",
   "execution_count": 11,
   "metadata": {},
   "outputs": [
    {
     "name": "stdout",
     "output_type": "stream",
     "text": [
      "Wall time: 6.98 ms\n"
     ]
    }
   ],
   "source": [
    "# %%time\n",
    "# del df['UID']\n",
    "# del df['iso2']\n",
    "# del df['iso3']\n",
    "# del df['code3']\n",
    "# del df['FIPS']\n",
    "# del df['Combined_Key']\n",
    "# del df['Lat'] \n",
    "# del df['Long_']\n",
    "# del df['Unnamed: 0']\n",
    "# #video got rid of all non-date columns\n",
    "# # Province_State\tCountry_Region\tPopulation\n",
    "# del df['Province_State']\n",
    "# del df['Country_Region']\n",
    "# del df['Population']\n",
    "\n",
    "# # df.set_index(\"Admin2\",inplace=True)\n"
   ]
  },
  {
   "cell_type": "code",
   "execution_count": 15,
   "metadata": {},
   "outputs": [
    {
     "data": {
      "text/plain": [
       "Index(['Admin2', '1/22/20', '1/23/20', '1/24/20', '1/25/20', '1/26/20',\n",
       "       '1/27/20', '1/28/20', '1/29/20', '1/30/20',\n",
       "       ...\n",
       "       '1/8/22', '1/9/22', '1/10/22', '1/11/22', '1/12/22', '1/13/22',\n",
       "       '1/14/22', '1/15/22', '1/16/22', '1/17/22'],\n",
       "      dtype='object', length=728)"
      ]
     },
     "execution_count": 15,
     "metadata": {},
     "output_type": "execute_result"
    }
   ],
   "source": [
    "df.columns"
   ]
  },
  {
   "cell_type": "code",
   "execution_count": 20,
   "metadata": {},
   "outputs": [
    {
     "data": {
      "text/plain": [
       "851730"
      ]
     },
     "execution_count": 20,
     "metadata": {},
     "output_type": "execute_result"
    }
   ],
   "source": [
    "df['1/17/22'].sum()"
   ]
  },
  {
   "cell_type": "code",
   "execution_count": 118,
   "metadata": {},
   "outputs": [
    {
     "data": {
      "text/plain": [
       "'01/10/22'"
      ]
     },
     "metadata": {},
     "output_type": "display_data"
    },
    {
     "data": {
      "text/plain": [
       "'01/09/22'"
      ]
     },
     "metadata": {},
     "output_type": "display_data"
    }
   ],
   "source": [
    "today2=today.strftime(\"%D\")\n",
    "display(today2)\n",
    "yesterday=today-dt.timedelta(1)\n",
    "yesterday=yesterday.strftime(\"%D\")\n",
    "display(yesterday)"
   ]
  },
  {
   "cell_type": "code",
   "execution_count": 116,
   "metadata": {},
   "outputs": [
    {
     "data": {
      "text/plain": [
       "'01/09/22'"
      ]
     },
     "metadata": {},
     "output_type": "display_data"
    }
   ],
   "source": []
  },
  {
   "cell_type": "code",
   "execution_count": 120,
   "metadata": {},
   "outputs": [
    {
     "data": {
      "text/plain": [
       "Index(['Unnamed: 0', '1/22/20', '1/23/20', '1/24/20', '1/25/20', '1/26/20',\n",
       "       '1/27/20', '1/28/20', '1/29/20', '1/30/20',\n",
       "       ...\n",
       "       '12/31/21', '1/1/22', '1/2/22', '1/3/22', '1/4/22', '1/5/22', '1/6/22',\n",
       "       '1/7/22', '1/8/22', '1/9/22'],\n",
       "      dtype='object', length=720)"
      ]
     },
     "execution_count": 120,
     "metadata": {},
     "output_type": "execute_result"
    }
   ],
   "source": [
    "df.columns"
   ]
  },
  {
   "cell_type": "code",
   "execution_count": 83,
   "metadata": {},
   "outputs": [
    {
     "data": {
      "text/html": [
       "<div>\n",
       "<style scoped>\n",
       "    .dataframe tbody tr th:only-of-type {\n",
       "        vertical-align: middle;\n",
       "    }\n",
       "\n",
       "    .dataframe tbody tr th {\n",
       "        vertical-align: top;\n",
       "    }\n",
       "\n",
       "    .dataframe thead th {\n",
       "        text-align: right;\n",
       "    }\n",
       "</style>\n",
       "<table border=\"1\" class=\"dataframe\">\n",
       "  <thead>\n",
       "    <tr style=\"text-align: right;\">\n",
       "      <th>Admin2</th>\n",
       "      <th>Autauga</th>\n",
       "      <th>Baldwin</th>\n",
       "      <th>Barbour</th>\n",
       "      <th>Bibb</th>\n",
       "      <th>Blount</th>\n",
       "      <th>Bullock</th>\n",
       "      <th>Butler</th>\n",
       "      <th>Calhoun</th>\n",
       "      <th>Chambers</th>\n",
       "      <th>Cherokee</th>\n",
       "      <th>...</th>\n",
       "      <th>Park</th>\n",
       "      <th>Platte</th>\n",
       "      <th>Sheridan</th>\n",
       "      <th>Sublette</th>\n",
       "      <th>Sweetwater</th>\n",
       "      <th>Teton</th>\n",
       "      <th>Uinta</th>\n",
       "      <th>Unassigned</th>\n",
       "      <th>Washakie</th>\n",
       "      <th>Weston</th>\n",
       "    </tr>\n",
       "  </thead>\n",
       "  <tbody>\n",
       "    <tr>\n",
       "      <th>Unnamed: 0</th>\n",
       "      <td>0</td>\n",
       "      <td>1</td>\n",
       "      <td>2</td>\n",
       "      <td>3</td>\n",
       "      <td>4</td>\n",
       "      <td>5</td>\n",
       "      <td>6</td>\n",
       "      <td>7</td>\n",
       "      <td>8</td>\n",
       "      <td>9</td>\n",
       "      <td>...</td>\n",
       "      <td>3332</td>\n",
       "      <td>3333</td>\n",
       "      <td>3334</td>\n",
       "      <td>3335</td>\n",
       "      <td>3336</td>\n",
       "      <td>3337</td>\n",
       "      <td>3338</td>\n",
       "      <td>3339</td>\n",
       "      <td>3340</td>\n",
       "      <td>3341</td>\n",
       "    </tr>\n",
       "    <tr>\n",
       "      <th>1/22/20</th>\n",
       "      <td>0</td>\n",
       "      <td>0</td>\n",
       "      <td>0</td>\n",
       "      <td>0</td>\n",
       "      <td>0</td>\n",
       "      <td>0</td>\n",
       "      <td>0</td>\n",
       "      <td>0</td>\n",
       "      <td>0</td>\n",
       "      <td>0</td>\n",
       "      <td>...</td>\n",
       "      <td>0</td>\n",
       "      <td>0</td>\n",
       "      <td>0</td>\n",
       "      <td>0</td>\n",
       "      <td>0</td>\n",
       "      <td>0</td>\n",
       "      <td>0</td>\n",
       "      <td>0</td>\n",
       "      <td>0</td>\n",
       "      <td>0</td>\n",
       "    </tr>\n",
       "    <tr>\n",
       "      <th>1/23/20</th>\n",
       "      <td>0</td>\n",
       "      <td>0</td>\n",
       "      <td>0</td>\n",
       "      <td>0</td>\n",
       "      <td>0</td>\n",
       "      <td>0</td>\n",
       "      <td>0</td>\n",
       "      <td>0</td>\n",
       "      <td>0</td>\n",
       "      <td>0</td>\n",
       "      <td>...</td>\n",
       "      <td>0</td>\n",
       "      <td>0</td>\n",
       "      <td>0</td>\n",
       "      <td>0</td>\n",
       "      <td>0</td>\n",
       "      <td>0</td>\n",
       "      <td>0</td>\n",
       "      <td>0</td>\n",
       "      <td>0</td>\n",
       "      <td>0</td>\n",
       "    </tr>\n",
       "    <tr>\n",
       "      <th>1/24/20</th>\n",
       "      <td>0</td>\n",
       "      <td>0</td>\n",
       "      <td>0</td>\n",
       "      <td>0</td>\n",
       "      <td>0</td>\n",
       "      <td>0</td>\n",
       "      <td>0</td>\n",
       "      <td>0</td>\n",
       "      <td>0</td>\n",
       "      <td>0</td>\n",
       "      <td>...</td>\n",
       "      <td>0</td>\n",
       "      <td>0</td>\n",
       "      <td>0</td>\n",
       "      <td>0</td>\n",
       "      <td>0</td>\n",
       "      <td>0</td>\n",
       "      <td>0</td>\n",
       "      <td>0</td>\n",
       "      <td>0</td>\n",
       "      <td>0</td>\n",
       "    </tr>\n",
       "    <tr>\n",
       "      <th>1/25/20</th>\n",
       "      <td>0</td>\n",
       "      <td>0</td>\n",
       "      <td>0</td>\n",
       "      <td>0</td>\n",
       "      <td>0</td>\n",
       "      <td>0</td>\n",
       "      <td>0</td>\n",
       "      <td>0</td>\n",
       "      <td>0</td>\n",
       "      <td>0</td>\n",
       "      <td>...</td>\n",
       "      <td>0</td>\n",
       "      <td>0</td>\n",
       "      <td>0</td>\n",
       "      <td>0</td>\n",
       "      <td>0</td>\n",
       "      <td>0</td>\n",
       "      <td>0</td>\n",
       "      <td>0</td>\n",
       "      <td>0</td>\n",
       "      <td>0</td>\n",
       "    </tr>\n",
       "    <tr>\n",
       "      <th>...</th>\n",
       "      <td>...</td>\n",
       "      <td>...</td>\n",
       "      <td>...</td>\n",
       "      <td>...</td>\n",
       "      <td>...</td>\n",
       "      <td>...</td>\n",
       "      <td>...</td>\n",
       "      <td>...</td>\n",
       "      <td>...</td>\n",
       "      <td>...</td>\n",
       "      <td>...</td>\n",
       "      <td>...</td>\n",
       "      <td>...</td>\n",
       "      <td>...</td>\n",
       "      <td>...</td>\n",
       "      <td>...</td>\n",
       "      <td>...</td>\n",
       "      <td>...</td>\n",
       "      <td>...</td>\n",
       "      <td>...</td>\n",
       "      <td>...</td>\n",
       "    </tr>\n",
       "    <tr>\n",
       "      <th>1/5/22</th>\n",
       "      <td>161</td>\n",
       "      <td>594</td>\n",
       "      <td>81</td>\n",
       "      <td>95</td>\n",
       "      <td>198</td>\n",
       "      <td>46</td>\n",
       "      <td>102</td>\n",
       "      <td>532</td>\n",
       "      <td>147</td>\n",
       "      <td>66</td>\n",
       "      <td>...</td>\n",
       "      <td>121</td>\n",
       "      <td>37</td>\n",
       "      <td>63</td>\n",
       "      <td>24</td>\n",
       "      <td>110</td>\n",
       "      <td>14</td>\n",
       "      <td>34</td>\n",
       "      <td>0</td>\n",
       "      <td>39</td>\n",
       "      <td>16</td>\n",
       "    </tr>\n",
       "    <tr>\n",
       "      <th>1/6/22</th>\n",
       "      <td>161</td>\n",
       "      <td>598</td>\n",
       "      <td>83</td>\n",
       "      <td>95</td>\n",
       "      <td>198</td>\n",
       "      <td>46</td>\n",
       "      <td>102</td>\n",
       "      <td>532</td>\n",
       "      <td>147</td>\n",
       "      <td>66</td>\n",
       "      <td>...</td>\n",
       "      <td>121</td>\n",
       "      <td>37</td>\n",
       "      <td>63</td>\n",
       "      <td>24</td>\n",
       "      <td>110</td>\n",
       "      <td>14</td>\n",
       "      <td>34</td>\n",
       "      <td>0</td>\n",
       "      <td>39</td>\n",
       "      <td>16</td>\n",
       "    </tr>\n",
       "    <tr>\n",
       "      <th>1/7/22</th>\n",
       "      <td>162</td>\n",
       "      <td>601</td>\n",
       "      <td>83</td>\n",
       "      <td>95</td>\n",
       "      <td>199</td>\n",
       "      <td>46</td>\n",
       "      <td>102</td>\n",
       "      <td>533</td>\n",
       "      <td>147</td>\n",
       "      <td>66</td>\n",
       "      <td>...</td>\n",
       "      <td>121</td>\n",
       "      <td>37</td>\n",
       "      <td>63</td>\n",
       "      <td>24</td>\n",
       "      <td>110</td>\n",
       "      <td>14</td>\n",
       "      <td>34</td>\n",
       "      <td>0</td>\n",
       "      <td>39</td>\n",
       "      <td>16</td>\n",
       "    </tr>\n",
       "    <tr>\n",
       "      <th>1/8/22</th>\n",
       "      <td>162</td>\n",
       "      <td>603</td>\n",
       "      <td>83</td>\n",
       "      <td>95</td>\n",
       "      <td>202</td>\n",
       "      <td>46</td>\n",
       "      <td>102</td>\n",
       "      <td>535</td>\n",
       "      <td>147</td>\n",
       "      <td>66</td>\n",
       "      <td>...</td>\n",
       "      <td>121</td>\n",
       "      <td>37</td>\n",
       "      <td>63</td>\n",
       "      <td>24</td>\n",
       "      <td>110</td>\n",
       "      <td>14</td>\n",
       "      <td>34</td>\n",
       "      <td>0</td>\n",
       "      <td>39</td>\n",
       "      <td>16</td>\n",
       "    </tr>\n",
       "    <tr>\n",
       "      <th>1/9/22</th>\n",
       "      <td>162</td>\n",
       "      <td>603</td>\n",
       "      <td>83</td>\n",
       "      <td>95</td>\n",
       "      <td>202</td>\n",
       "      <td>46</td>\n",
       "      <td>102</td>\n",
       "      <td>535</td>\n",
       "      <td>147</td>\n",
       "      <td>66</td>\n",
       "      <td>...</td>\n",
       "      <td>121</td>\n",
       "      <td>37</td>\n",
       "      <td>63</td>\n",
       "      <td>24</td>\n",
       "      <td>110</td>\n",
       "      <td>14</td>\n",
       "      <td>34</td>\n",
       "      <td>0</td>\n",
       "      <td>39</td>\n",
       "      <td>16</td>\n",
       "    </tr>\n",
       "  </tbody>\n",
       "</table>\n",
       "<p>720 rows × 3342 columns</p>\n",
       "</div>"
      ],
      "text/plain": [
       "Admin2      Autauga  Baldwin  Barbour  Bibb  Blount  Bullock  Butler  Calhoun  \\\n",
       "Unnamed: 0        0        1        2     3       4        5       6        7   \n",
       "1/22/20           0        0        0     0       0        0       0        0   \n",
       "1/23/20           0        0        0     0       0        0       0        0   \n",
       "1/24/20           0        0        0     0       0        0       0        0   \n",
       "1/25/20           0        0        0     0       0        0       0        0   \n",
       "...             ...      ...      ...   ...     ...      ...     ...      ...   \n",
       "1/5/22          161      594       81    95     198       46     102      532   \n",
       "1/6/22          161      598       83    95     198       46     102      532   \n",
       "1/7/22          162      601       83    95     199       46     102      533   \n",
       "1/8/22          162      603       83    95     202       46     102      535   \n",
       "1/9/22          162      603       83    95     202       46     102      535   \n",
       "\n",
       "Admin2      Chambers  Cherokee  ...  Park  Platte  Sheridan  Sublette  \\\n",
       "Unnamed: 0         8         9  ...  3332    3333      3334      3335   \n",
       "1/22/20            0         0  ...     0       0         0         0   \n",
       "1/23/20            0         0  ...     0       0         0         0   \n",
       "1/24/20            0         0  ...     0       0         0         0   \n",
       "1/25/20            0         0  ...     0       0         0         0   \n",
       "...              ...       ...  ...   ...     ...       ...       ...   \n",
       "1/5/22           147        66  ...   121      37        63        24   \n",
       "1/6/22           147        66  ...   121      37        63        24   \n",
       "1/7/22           147        66  ...   121      37        63        24   \n",
       "1/8/22           147        66  ...   121      37        63        24   \n",
       "1/9/22           147        66  ...   121      37        63        24   \n",
       "\n",
       "Admin2      Sweetwater  Teton  Uinta  Unassigned  Washakie  Weston  \n",
       "Unnamed: 0        3336   3337   3338        3339      3340    3341  \n",
       "1/22/20              0      0      0           0         0       0  \n",
       "1/23/20              0      0      0           0         0       0  \n",
       "1/24/20              0      0      0           0         0       0  \n",
       "1/25/20              0      0      0           0         0       0  \n",
       "...                ...    ...    ...         ...       ...     ...  \n",
       "1/5/22             110     14     34           0        39      16  \n",
       "1/6/22             110     14     34           0        39      16  \n",
       "1/7/22             110     14     34           0        39      16  \n",
       "1/8/22             110     14     34           0        39      16  \n",
       "1/9/22             110     14     34           0        39      16  \n",
       "\n",
       "[720 rows x 3342 columns]"
      ]
     },
     "execution_count": 83,
     "metadata": {},
     "output_type": "execute_result"
    }
   ],
   "source": [
    "df.T"
   ]
  },
  {
   "cell_type": "code",
   "execution_count": 1,
   "metadata": {},
   "outputs": [],
   "source": [
    "df[str(today.strftime(\"%D\"))]"
   ]
  },
  {
   "cell_type": "code",
   "execution_count": 2,
   "metadata": {},
   "outputs": [
    {
     "ename": "NameError",
     "evalue": "name 'df_raw' is not defined",
     "output_type": "error",
     "traceback": [
      "\u001b[1;31m---------------------------------------------------------------------------\u001b[0m",
      "\u001b[1;31mNameError\u001b[0m                                 Traceback (most recent call last)",
      "\u001b[1;32m~\\AppData\\Local\\Temp/ipykernel_25888/1224788723.py\u001b[0m in \u001b[0;36m<module>\u001b[1;34m\u001b[0m\n\u001b[1;32m----> 1\u001b[1;33m \u001b[1;32mfor\u001b[0m \u001b[0mi\u001b[0m\u001b[1;33m,\u001b[0m\u001b[0mx\u001b[0m \u001b[1;32min\u001b[0m \u001b[0menumerate\u001b[0m\u001b[1;33m(\u001b[0m\u001b[0mdf_raw\u001b[0m\u001b[1;33m.\u001b[0m\u001b[0mcolumns\u001b[0m\u001b[1;33m)\u001b[0m\u001b[1;33m:\u001b[0m\u001b[1;33m\u001b[0m\u001b[1;33m\u001b[0m\u001b[0m\n\u001b[0m\u001b[0;32m      2\u001b[0m     \u001b[0mprint\u001b[0m\u001b[1;33m(\u001b[0m\u001b[0mx\u001b[0m\u001b[1;33m,\u001b[0m\u001b[1;34m\",\"\u001b[0m\u001b[1;33m)\u001b[0m\u001b[1;33m\u001b[0m\u001b[1;33m\u001b[0m\u001b[0m\n\u001b[0;32m      3\u001b[0m     \u001b[1;32mif\u001b[0m \u001b[0mi\u001b[0m \u001b[1;33m==\u001b[0m \u001b[1;36m12\u001b[0m\u001b[1;33m:\u001b[0m\u001b[1;33m\u001b[0m\u001b[1;33m\u001b[0m\u001b[0m\n\u001b[0;32m      4\u001b[0m         \u001b[1;32mbreak\u001b[0m\u001b[1;33m\u001b[0m\u001b[1;33m\u001b[0m\u001b[0m\n",
      "\u001b[1;31mNameError\u001b[0m: name 'df_raw' is not defined"
     ]
    }
   ],
   "source": [
    "for i,x in enumerate(df_raw.columns):\n",
    "    print(x,\",\")\n",
    "    if i == 12:\n",
    "        break"
   ]
  },
  {
   "cell_type": "code",
   "execution_count": null,
   "metadata": {},
   "outputs": [],
   "source": [
    "df.tail()"
   ]
  },
  {
   "cell_type": "code",
   "execution_count": null,
   "metadata": {},
   "outputs": [],
   "source": [
    "df.columns"
   ]
  },
  {
   "cell_type": "code",
   "execution_count": 3,
   "metadata": {},
   "outputs": [
    {
     "ename": "NameError",
     "evalue": "name 'df' is not defined",
     "output_type": "error",
     "traceback": [
      "\u001b[1;31m---------------------------------------------------------------------------\u001b[0m",
      "\u001b[1;31mNameError\u001b[0m                                 Traceback (most recent call last)",
      "\u001b[1;32m~\\AppData\\Local\\Temp/ipykernel_25888/765677108.py\u001b[0m in \u001b[0;36m<module>\u001b[1;34m\u001b[0m\n\u001b[1;32m----> 1\u001b[1;33m \u001b[0mdisplay\u001b[0m\u001b[1;33m(\u001b[0m\u001b[0mlen\u001b[0m\u001b[1;33m(\u001b[0m\u001b[0mdf\u001b[0m\u001b[1;33m.\u001b[0m\u001b[0mT\u001b[0m\u001b[1;33m.\u001b[0m\u001b[0mcolumns\u001b[0m\u001b[1;33m)\u001b[0m\u001b[1;33m)\u001b[0m\u001b[1;33m\u001b[0m\u001b[1;33m\u001b[0m\u001b[0m\n\u001b[0m\u001b[0;32m      2\u001b[0m \u001b[0mdisplay\u001b[0m\u001b[1;33m(\u001b[0m\u001b[0mdf\u001b[0m\u001b[1;33m.\u001b[0m\u001b[0mT\u001b[0m\u001b[1;33m.\u001b[0m\u001b[0mcolumns\u001b[0m\u001b[1;33m)\u001b[0m\u001b[1;33m\u001b[0m\u001b[1;33m\u001b[0m\u001b[0m\n",
      "\u001b[1;31mNameError\u001b[0m: name 'df' is not defined"
     ]
    }
   ],
   "source": [
    "display(len(df.T.columns))\n",
    "display(df.T.columns)"
   ]
  },
  {
   "cell_type": "code",
   "execution_count": 4,
   "metadata": {},
   "outputs": [
    {
     "ename": "NameError",
     "evalue": "name 'df' is not defined",
     "output_type": "error",
     "traceback": [
      "\u001b[1;31m---------------------------------------------------------------------------\u001b[0m",
      "\u001b[1;31mNameError\u001b[0m                                 Traceback (most recent call last)",
      "\u001b[1;32m~\\AppData\\Local\\Temp/ipykernel_25888/3021548634.py\u001b[0m in \u001b[0;36m<module>\u001b[1;34m\u001b[0m\n\u001b[1;32m----> 1\u001b[1;33m \u001b[0mdf\u001b[0m\u001b[1;33m.\u001b[0m\u001b[0msort_index\u001b[0m\u001b[1;33m(\u001b[0m\u001b[1;33m)\u001b[0m\u001b[1;33m\u001b[0m\u001b[1;33m\u001b[0m\u001b[0m\n\u001b[0m",
      "\u001b[1;31mNameError\u001b[0m: name 'df' is not defined"
     ]
    }
   ],
   "source": [
    "df.sort_index()"
   ]
  },
  {
   "cell_type": "code",
   "execution_count": 5,
   "metadata": {},
   "outputs": [],
   "source": [
    "# for x in df.T.sort_index():\n",
    "#     print(x)"
   ]
  },
  {
   "cell_type": "code",
   "execution_count": 6,
   "metadata": {},
   "outputs": [],
   "source": [
    "# for x in df.T.columns:\n",
    "#     print(x)"
   ]
  },
  {
   "cell_type": "code",
   "execution_count": null,
   "metadata": {},
   "outputs": [],
   "source": []
  },
  {
   "cell_type": "code",
   "execution_count": null,
   "metadata": {},
   "outputs": [],
   "source": []
  }
 ],
 "metadata": {
  "kernelspec": {
   "display_name": "Python 3 (ipykernel)",
   "language": "python",
   "name": "python3"
  },
  "language_info": {
   "codemirror_mode": {
    "name": "ipython",
    "version": 3
   },
   "file_extension": ".py",
   "mimetype": "text/x-python",
   "name": "python",
   "nbconvert_exporter": "python",
   "pygments_lexer": "ipython3",
   "version": "3.8.8"
  }
 },
 "nbformat": 4,
 "nbformat_minor": 4
}
